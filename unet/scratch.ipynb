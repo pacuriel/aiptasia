{
 "cells": [
  {
   "cell_type": "code",
   "execution_count": 1,
   "metadata": {},
   "outputs": [],
   "source": [
    "import cv2\n",
    "import matplotlib.pyplot as plt\n",
    "import numpy as np\n",
    "import math\n",
    "import os\n",
    "from PIL import Image\n",
    "from carvana_test.utils import tileImage, padImage"
   ]
  },
  {
   "cell_type": "code",
   "execution_count": 2,
   "metadata": {},
   "outputs": [],
   "source": [
    "img_path = \"C:\\\\Users\\\\giant\\\\Desktop\\\\aiptasia\\\\data\\\\carvana_data\\\\subset\"\n",
    "mask_path = \"C:\\\\Users\\\\giant\\\\Desktop\\\\aiptasia\\\\data\\\\carvana_data\\\\subset_masks\"\n",
    "file_name = sorted(os.listdir(img_path))[0]; mask_file_name = sorted(os.listdir(mask_path))[0]\n",
    "img = cv2.imread(os.path.join(img_path, file_name)); img = cv2.cvtColor(img, cv2.COLOR_BGR2RGB)\n",
    "# mask = cv2.imread(os.path.join(mask_path, mask_file_name))\n",
    "mask = np.array(Image.open(os.path.join(mask_path, mask_file_name)).convert(\"L\"), dtype=np.float32)\n",
    "\n",
    "#function to pad an image such that its dimensions are divisible by a given tile size\n",
    "def padImage(img, tile_size):\n",
    "    H, W = img.shape[:2] #height/width of original image\n",
    "\n",
    "    H_pad = 0\n",
    "    if H % tile_size != 0: \n",
    "        H_pad = (tile_size*math.ceil(H / tile_size) - H) // 2\n",
    "\n",
    "    W_pad = 0\n",
    "    if W % tile_size != 0:\n",
    "        W_pad = (tile_size*math.ceil(W / tile_size) - W) // 2\n",
    "\n",
    "    img = cv2.copyMakeBorder(src=img, top=H_pad, bottom=H_pad, left=W_pad, right=W_pad, borderType=cv2.BORDER_REFLECT)\n",
    "\n",
    "    return img\n",
    "\n",
    "#function to read and store an image as a numpy array\n",
    "def readImage(img_path: str, mask: bool = False) -> np.ndarray:\n",
    "    if mask: #binary mask image\n",
    "        img = np.array(Image.open(img_path).convert(\"L\"), dtype=np.float32)\n",
    "    else: #raw image\n",
    "        img = cv2.imread(img_path)\n",
    "        img = cv2.cvtColor(img, cv2.COLOR_BGR2RGB)\n",
    "\n",
    "    return img"
   ]
  },
  {
   "cell_type": "markdown",
   "metadata": {},
   "source": [
    "Using below code cell to save tiles of images and their corresponding masks"
   ]
  },
  {
   "cell_type": "code",
   "execution_count": null,
   "metadata": {},
   "outputs": [],
   "source": [
    "# tile_size = 256 \n",
    "\n",
    "# #looping over all images and masks\n",
    "# for i, img_file in enumerate(sorted(os.listdir(img_path))):\n",
    "#     print(i, img_file)\n",
    "#     img_file_path = os.path.join(img_path, img_file)\n",
    "#     mask_file_path = os.path.join(mask_path, img_file[:-4] + \"_mask.gif\")\n",
    "\n",
    "#     #reading in images/masks\n",
    "#     img = readImage(img_path=img_file_path)\n",
    "#     mask = readImage(img_path=mask_file_path, mask=True)\n",
    "\n",
    "#     #padding for non-overlapping tiles\n",
    "#     img = padImage(img, tile_size)\n",
    "#     mask = padImage(mask, tile_size)\n",
    "\n",
    "#     #tiling img\n",
    "#     img_tile_dir = os.path.join(img_path + \"_tiles\", img_file); os.makedirs(name=(img_path + \"_tiles\"), exist_ok=True)\n",
    "#     mask_tile_dir = os.path.join(mask_path + \"_tiles\", img_file); os.makedirs(name=(mask_path + \"_tiles\"), exist_ok=True)\n",
    "#     img_tiles = tileImage(img, tile_size, save_tiles=True, tile_dir=img_tile_dir)\n",
    "#     mask_tiles = tileImage(mask, tile_size, save_tiles=True, tile_dir=mask_tile_dir)"
   ]
  },
  {
   "cell_type": "code",
   "execution_count": null,
   "metadata": {},
   "outputs": [],
   "source": [
    "plt.imshow(img); plt.show()\n",
    "plt.imshow(mask, cmap=\"binary_r\"); plt.show()"
   ]
  },
  {
   "cell_type": "code",
   "execution_count": 150,
   "metadata": {},
   "outputs": [],
   "source": [
    "tile_size = 256\n",
    "img = padImage(img, tile_size)"
   ]
  },
  {
   "cell_type": "code",
   "execution_count": null,
   "metadata": {},
   "outputs": [],
   "source": [
    "plt.imshow(img); plt.show()\n",
    "plt.imshow(mask, cmap='binary_r'); plt.show()"
   ]
  },
  {
   "cell_type": "code",
   "execution_count": null,
   "metadata": {},
   "outputs": [],
   "source": [
    "#function to obtain a list of tiles given an input image and size\n",
    "def tileImage(img: np.ndarray, tile_size: int = 572) -> list[np.ndarray]:\n",
    "    \"\"\"\n",
    "    Input: \n",
    "    - img: image of shape (height, width, channels)\n",
    "    - tile_size: size of tiles\n",
    "\n",
    "    Output:\n",
    "    - List of tiles (images): \n",
    "    \"\"\"\n",
    "    tiles = [] #list of tiles\n",
    "\n",
    "    #image is smaller than given tile size\n",
    "    if img.shape[0] < tile_size or img.shape[1] < tile_size: \n",
    "        print(\"Image size is smaller than tile size\")\n",
    "        return False\n",
    "\n",
    "    #getting number of tiles along height/width\n",
    "    tiles_height = math.floor(img.shape[0] / tile_size)\n",
    "    if (img.shape[0] % tile_size) != 0: tiles_height += 1 #incrementing if not divisble\n",
    "    tiles_width = math.floor(img.shape[1] / tile_size)\n",
    "    if (img.shape[1] % tile_size) != 0: tiles_width += 1 #incrementing if not divisble\n",
    "\n",
    "    num_tiles = tiles_height * tiles_width #total number of tiles\n",
    "\n",
    "    print(num_tiles, tiles_height, tiles_width)\n",
    "    \n",
    "    for h_tile in range(tiles_height):\n",
    "        for w_tile in range(tiles_width):\n",
    "            tile_top = h_tile*tile_size\n",
    "            tile_bottom = (h_tile + 1)*tile_size\n",
    "            tile_left = w_tile*tile_size\n",
    "            tile_right = (w_tile + 1)*tile_size\n",
    "\n",
    "            #check to avoid tile doesn't surpass image height\n",
    "            if tile_bottom > img.shape[0]:\n",
    "                tile_bottom = img.shape[0]\n",
    "                tile_top = tile_bottom - tile_size\n",
    "            \n",
    "            #check to avoid tile doesn't surpass image width\n",
    "            if tile_right > img.shape[1]: \n",
    "                tile_right = img.shape[1]\n",
    "                tile_left = tile_right - tile_size\n",
    "            \n",
    "            tile = img[tile_top:tile_bottom, tile_left:tile_right, :]\n",
    "            tiles.append(tile)\n",
    " \n",
    "    return tiles\n",
    "\n",
    "tile_size = 1000\n",
    "tiles = tileImage(img=img, tile_size=tile_size)\n",
    "len(tiles)"
   ]
  },
  {
   "cell_type": "code",
   "execution_count": null,
   "metadata": {},
   "outputs": [],
   "source": [
    "np.zeros((2, 2), dtype=img.dtype)"
   ]
  },
  {
   "cell_type": "code",
   "execution_count": null,
   "metadata": {},
   "outputs": [],
   "source": [
    "def stitchTiles(tiles: list[np.ndarray], img_shape: tuple[int]) -> np.ndarray:\n",
    "    stiched_img = np.zeros(shape=img_shape, dtype=tiles[0].dtype) #initializing array of zeros as full size of image\n",
    "\n",
    "    tile_size = tiles[0].shape[0] #size of tiles\n",
    "    img_height = img_shape[0]; img_width = img_shape[1] #image height/width\n",
    "    \n",
    "    #getting number of tiles along height/width\n",
    "    tiles_height = math.floor(img_height / tile_size)\n",
    "    if (img_height % tile_size) != 0: tiles_height += 1 #incrementing if not divisble\n",
    "    tiles_width = math.floor(img_width / tile_size)\n",
    "    if (img_width % tile_size) != 0: tiles_width += 1 #incrementing if not divisble\n",
    "    \n",
    "    i = 0 #iterator\n",
    "\n",
    "    for h_tile in range(tiles_height):\n",
    "        for w_tile in range(tiles_width):\n",
    "            tile_top = h_tile*tile_size\n",
    "            tile_bottom = (h_tile + 1)*tile_size\n",
    "            tile_left = w_tile*tile_size\n",
    "            tile_right = (w_tile + 1)*tile_size\n",
    "\n",
    "            #check to avoid tile doesn't surpass image height\n",
    "            if tile_bottom > img.shape[0]:\n",
    "                tile_bottom = img.shape[0]\n",
    "                # tile_top = tile_bottom - tile_size\n",
    "            \n",
    "            #check to avoid tile doesn't surpass image width\n",
    "            if tile_right > img.shape[1]: \n",
    "                tile_right = img.shape[1]\n",
    "                # tile_left = tile_right - tile_size\n",
    "\n",
    "            print(i, tile_top, tile_bottom, tile_left, tile_right)\n",
    "            stiched_img[tile_top:tile_bottom, tile_left:tile_right, :] = tiles[i][:(tile_bottom - tile_top), :(tile_right - tile_left), :]\n",
    "            i += 1\n",
    "    \n",
    "    return stiched_img\n",
    "\n",
    "stiched_img = stitchTiles(tiles=tiles, img_shape=img.shape)\n",
    "plt.imshow(stiched_img); plt.show()"
   ]
  },
  {
   "cell_type": "code",
   "execution_count": null,
   "metadata": {},
   "outputs": [],
   "source": [
    "plt.imshow(tiles[2][(1000 - 80):, :, :])\n",
    "plt.show()"
   ]
  },
  {
   "cell_type": "code",
   "execution_count": null,
   "metadata": {},
   "outputs": [],
   "source": [
    "test = np.zeros(shape=img.shape, dtype='uint8')\n",
    "test[:1000, :1000, :] = tiles[0]\n",
    "plt.imshow(test)\n",
    "plt.show()"
   ]
  },
  {
   "cell_type": "code",
   "execution_count": null,
   "metadata": {},
   "outputs": [],
   "source": [
    "# ###Do we disregard (i.e. not process) a tile if it does not contain aiptasia?\n",
    "# plt.imshow(img[0:tile_size, 0:tile_size, :])\n",
    "# plt.show()\n",
    "# plt.clf()\n",
    "\n",
    "# plt.imshow(img[0:tile_size, tile_size:2*tile_size, :])\n",
    "# plt.show()\n",
    "# plt.clf()"
   ]
  },
  {
   "cell_type": "code",
   "execution_count": null,
   "metadata": {},
   "outputs": [],
   "source": [
    "for tile in tiles:\n",
    "    plt.imshow(tile)\n",
    "    plt.show()\n",
    "    plt.clf()"
   ]
  },
  {
   "cell_type": "code",
   "execution_count": null,
   "metadata": {},
   "outputs": [],
   "source": [
    "import platform\n",
    "\n",
    "#storing image and mask directories\n",
    "if platform.system() == \"Linux\":\n",
    "    root_dir = \"/home/pcuriel/data/aiptasia/image_data/water_body_data/\"\n",
    "    image_dir = root_dir + \"Images\"\n",
    "    mask_dir = root_dir + \"Masks\"\n",
    "elif platform.system() == \"Windows\": \n",
    "    root_dir = \"C:\\\\Users\\\\giant\\\\Desktop\\\\aiptasia\\\\data\\\\carvana_data\"\n",
    "    image_dir = root_dir + \"\\\\train\"\n",
    "    mask_dir = root_dir + \"\\\\train_masks\""
   ]
  }
 ],
 "metadata": {
  "kernelspec": {
   "display_name": "pytorch",
   "language": "python",
   "name": "python3"
  },
  "language_info": {
   "codemirror_mode": {
    "name": "ipython",
    "version": 3
   },
   "file_extension": ".py",
   "mimetype": "text/x-python",
   "name": "python",
   "nbconvert_exporter": "python",
   "pygments_lexer": "ipython3",
   "version": "3.12.3"
  }
 },
 "nbformat": 4,
 "nbformat_minor": 2
}
